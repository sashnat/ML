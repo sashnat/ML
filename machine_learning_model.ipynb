{
 "cells": [
  {
   "cell_type": "code",
   "execution_count": 1,
   "metadata": {},
   "outputs": [],
   "source": [
    "import pandas as pd\n",
    "%matplotlib inline\n",
    "import warnings\n",
    "import sklearn"
   ]
  },
  {
   "cell_type": "markdown",
   "metadata": {},
   "source": [
    "-------------------------этап подготовки данных--------------------------------"
   ]
  },
  {
   "cell_type": "code",
   "execution_count": 2,
   "metadata": {},
   "outputs": [],
   "source": [
    "money = pd.read_csv('C:\\\\Users\\PycharmProjects\\linear_regression\\ML Model\\\\USD_CURRENCY_HISTORY.csv')"
   ]
  },
  {
   "cell_type": "code",
   "execution_count": 3,
   "metadata": {},
   "outputs": [
    {
     "data": {
      "text/plain": [
       "409"
      ]
     },
     "execution_count": 3,
     "metadata": {},
     "output_type": "execute_result"
    }
   ],
   "source": [
    "past = 7 * 4\n",
    "future = 7\n",
    "salary = [10000, 20000, 30000, 40000, 50000]\n",
    "value = money['curs']\n",
    "len(value)"
   ]
  },
  {
   "cell_type": "code",
   "execution_count": 4,
   "metadata": {},
   "outputs": [],
   "source": [
    "start = past\n",
    "end = len(value)  - future"
   ]
  },
  {
   "cell_type": "code",
   "execution_count": 5,
   "metadata": {},
   "outputs": [],
   "source": [
    "raw_df = [] \n",
    "for i in range(start,end):\n",
    "    past_and_future_value = value[(i-past):(i+future)]   # для каждого элемента i (каждого дня) вводим переменную \n",
    "    # (временной диапазон за 28 дней до и 7 дней после для каждого дня\n",
    "    raw_df.append(list(past_and_future_value))"
   ]
  },
  {
   "cell_type": "code",
   "execution_count": 6,
   "metadata": {},
   "outputs": [],
   "source": [
    "past_columns = [f\"past_{i}\" for i in range(past)]\n",
    "future_columns = [f\"future_{i}\" for i in range(future)]\n"
   ]
  },
  {
   "cell_type": "code",
   "execution_count": 7,
   "metadata": {},
   "outputs": [
    {
     "data": {
      "text/html": [
       "<div>\n",
       "<style scoped>\n",
       "    .dataframe tbody tr th:only-of-type {\n",
       "        vertical-align: middle;\n",
       "    }\n",
       "\n",
       "    .dataframe tbody tr th {\n",
       "        vertical-align: top;\n",
       "    }\n",
       "\n",
       "    .dataframe thead th {\n",
       "        text-align: right;\n",
       "    }\n",
       "</style>\n",
       "<table border=\"1\" class=\"dataframe\">\n",
       "  <thead>\n",
       "    <tr style=\"text-align: right;\">\n",
       "      <th></th>\n",
       "      <th>past_0</th>\n",
       "      <th>past_1</th>\n",
       "      <th>past_2</th>\n",
       "      <th>past_3</th>\n",
       "      <th>past_4</th>\n",
       "      <th>past_5</th>\n",
       "      <th>past_6</th>\n",
       "      <th>past_7</th>\n",
       "      <th>past_8</th>\n",
       "      <th>past_9</th>\n",
       "      <th>...</th>\n",
       "      <th>past_25</th>\n",
       "      <th>past_26</th>\n",
       "      <th>past_27</th>\n",
       "      <th>future_0</th>\n",
       "      <th>future_1</th>\n",
       "      <th>future_2</th>\n",
       "      <th>future_3</th>\n",
       "      <th>future_4</th>\n",
       "      <th>future_5</th>\n",
       "      <th>future_6</th>\n",
       "    </tr>\n",
       "  </thead>\n",
       "  <tbody>\n",
       "    <tr>\n",
       "      <th>0</th>\n",
       "      <td>57.0463</td>\n",
       "      <td>56.8734</td>\n",
       "      <td>56.9957</td>\n",
       "      <td>56.6019</td>\n",
       "      <td>56.3569</td>\n",
       "      <td>56.3878</td>\n",
       "      <td>56.5925</td>\n",
       "      <td>56.7597</td>\n",
       "      <td>56.5892</td>\n",
       "      <td>56.6261</td>\n",
       "      <td>...</td>\n",
       "      <td>57.7701</td>\n",
       "      <td>57.5899</td>\n",
       "      <td>56.5918</td>\n",
       "      <td>56.3554</td>\n",
       "      <td>56.3438</td>\n",
       "      <td>56.5201</td>\n",
       "      <td>56.6537</td>\n",
       "      <td>56.7608</td>\n",
       "      <td>55.9208</td>\n",
       "      <td>55.6717</td>\n",
       "    </tr>\n",
       "    <tr>\n",
       "      <th>1</th>\n",
       "      <td>56.8734</td>\n",
       "      <td>56.9957</td>\n",
       "      <td>56.6019</td>\n",
       "      <td>56.3569</td>\n",
       "      <td>56.3878</td>\n",
       "      <td>56.5925</td>\n",
       "      <td>56.7597</td>\n",
       "      <td>56.5892</td>\n",
       "      <td>56.6261</td>\n",
       "      <td>56.4115</td>\n",
       "      <td>...</td>\n",
       "      <td>57.5899</td>\n",
       "      <td>56.5918</td>\n",
       "      <td>56.3554</td>\n",
       "      <td>56.3438</td>\n",
       "      <td>56.5201</td>\n",
       "      <td>56.6537</td>\n",
       "      <td>56.7608</td>\n",
       "      <td>55.9208</td>\n",
       "      <td>55.6717</td>\n",
       "      <td>56.3742</td>\n",
       "    </tr>\n",
       "    <tr>\n",
       "      <th>2</th>\n",
       "      <td>56.9957</td>\n",
       "      <td>56.6019</td>\n",
       "      <td>56.3569</td>\n",
       "      <td>56.3878</td>\n",
       "      <td>56.5925</td>\n",
       "      <td>56.7597</td>\n",
       "      <td>56.5892</td>\n",
       "      <td>56.6261</td>\n",
       "      <td>56.4115</td>\n",
       "      <td>56.3888</td>\n",
       "      <td>...</td>\n",
       "      <td>56.5918</td>\n",
       "      <td>56.3554</td>\n",
       "      <td>56.3438</td>\n",
       "      <td>56.5201</td>\n",
       "      <td>56.6537</td>\n",
       "      <td>56.7608</td>\n",
       "      <td>55.9208</td>\n",
       "      <td>55.6717</td>\n",
       "      <td>56.3742</td>\n",
       "      <td>56.4334</td>\n",
       "    </tr>\n",
       "    <tr>\n",
       "      <th>3</th>\n",
       "      <td>56.6019</td>\n",
       "      <td>56.3569</td>\n",
       "      <td>56.3878</td>\n",
       "      <td>56.5925</td>\n",
       "      <td>56.7597</td>\n",
       "      <td>56.5892</td>\n",
       "      <td>56.6261</td>\n",
       "      <td>56.4115</td>\n",
       "      <td>56.3888</td>\n",
       "      <td>55.9288</td>\n",
       "      <td>...</td>\n",
       "      <td>56.3554</td>\n",
       "      <td>56.3438</td>\n",
       "      <td>56.5201</td>\n",
       "      <td>56.6537</td>\n",
       "      <td>56.7608</td>\n",
       "      <td>55.9208</td>\n",
       "      <td>55.6717</td>\n",
       "      <td>56.3742</td>\n",
       "      <td>56.4334</td>\n",
       "      <td>56.6616</td>\n",
       "    </tr>\n",
       "    <tr>\n",
       "      <th>4</th>\n",
       "      <td>56.3569</td>\n",
       "      <td>56.3878</td>\n",
       "      <td>56.5925</td>\n",
       "      <td>56.7597</td>\n",
       "      <td>56.5892</td>\n",
       "      <td>56.6261</td>\n",
       "      <td>56.4115</td>\n",
       "      <td>56.3888</td>\n",
       "      <td>55.9288</td>\n",
       "      <td>55.8288</td>\n",
       "      <td>...</td>\n",
       "      <td>56.3438</td>\n",
       "      <td>56.5201</td>\n",
       "      <td>56.6537</td>\n",
       "      <td>56.7608</td>\n",
       "      <td>55.9208</td>\n",
       "      <td>55.6717</td>\n",
       "      <td>56.3742</td>\n",
       "      <td>56.4334</td>\n",
       "      <td>56.6616</td>\n",
       "      <td>57.1000</td>\n",
       "    </tr>\n",
       "  </tbody>\n",
       "</table>\n",
       "<p>5 rows × 35 columns</p>\n",
       "</div>"
      ],
      "text/plain": [
       "<div>\n",
       "<style scoped>\n",
       "    .dataframe tbody tr th:only-of-type {\n",
       "        vertical-align: middle;\n",
       "    }\n",
       "\n",
       "    .dataframe tbody tr th {\n",
       "        vertical-align: top;\n",
       "    }\n",
       "\n",
       "    .dataframe thead th {\n",
       "        text-align: right;\n",
       "    }\n",
       "</style>\n",
       "<table border=\"1\" class=\"dataframe\">\n",
       "  <thead>\n",
       "    <tr style=\"text-align: right;\">\n",
       "      <th></th>\n",
       "      <th>past_0</th>\n",
       "      <th>past_1</th>\n",
       "      <th>past_2</th>\n",
       "      <th>past_3</th>\n",
       "      <th>past_4</th>\n",
       "      <th>past_5</th>\n",
       "      <th>past_6</th>\n",
       "      <th>past_7</th>\n",
       "      <th>past_8</th>\n",
       "      <th>past_9</th>\n",
       "      <th>...</th>\n",
       "      <th>past_25</th>\n",
       "      <th>past_26</th>\n",
       "      <th>past_27</th>\n",
       "      <th>future_0</th>\n",
       "      <th>future_1</th>\n",
       "      <th>future_2</th>\n",
       "      <th>future_3</th>\n",
       "      <th>future_4</th>\n",
       "      <th>future_5</th>\n",
       "      <th>future_6</th>\n",
       "    </tr>\n",
       "  </thead>\n",
       "  <tbody>\n",
       "    <tr>\n",
       "      <th>0</th>\n",
       "      <td>57.0463</td>\n",
       "      <td>56.8734</td>\n",
       "      <td>56.9957</td>\n",
       "      <td>56.6019</td>\n",
       "      <td>56.3569</td>\n",
       "      <td>56.3878</td>\n",
       "      <td>56.5925</td>\n",
       "      <td>56.7597</td>\n",
       "      <td>56.5892</td>\n",
       "      <td>56.6261</td>\n",
       "      <td>...</td>\n",
       "      <td>57.7701</td>\n",
       "      <td>57.5899</td>\n",
       "      <td>56.5918</td>\n",
       "      <td>56.3554</td>\n",
       "      <td>56.3438</td>\n",
       "      <td>56.5201</td>\n",
       "      <td>56.6537</td>\n",
       "      <td>56.7608</td>\n",
       "      <td>55.9208</td>\n",
       "      <td>55.6717</td>\n",
       "    </tr>\n",
       "    <tr>\n",
       "      <th>1</th>\n",
       "      <td>56.8734</td>\n",
       "      <td>56.9957</td>\n",
       "      <td>56.6019</td>\n",
       "      <td>56.3569</td>\n",
       "      <td>56.3878</td>\n",
       "      <td>56.5925</td>\n",
       "      <td>56.7597</td>\n",
       "      <td>56.5892</td>\n",
       "      <td>56.6261</td>\n",
       "      <td>56.4115</td>\n",
       "      <td>...</td>\n",
       "      <td>57.5899</td>\n",
       "      <td>56.5918</td>\n",
       "      <td>56.3554</td>\n",
       "      <td>56.3438</td>\n",
       "      <td>56.5201</td>\n",
       "      <td>56.6537</td>\n",
       "      <td>56.7608</td>\n",
       "      <td>55.9208</td>\n",
       "      <td>55.6717</td>\n",
       "      <td>56.3742</td>\n",
       "    </tr>\n",
       "    <tr>\n",
       "      <th>2</th>\n",
       "      <td>56.9957</td>\n",
       "      <td>56.6019</td>\n",
       "      <td>56.3569</td>\n",
       "      <td>56.3878</td>\n",
       "      <td>56.5925</td>\n",
       "      <td>56.7597</td>\n",
       "      <td>56.5892</td>\n",
       "      <td>56.6261</td>\n",
       "      <td>56.4115</td>\n",
       "      <td>56.3888</td>\n",
       "      <td>...</td>\n",
       "      <td>56.5918</td>\n",
       "      <td>56.3554</td>\n",
       "      <td>56.3438</td>\n",
       "      <td>56.5201</td>\n",
       "      <td>56.6537</td>\n",
       "      <td>56.7608</td>\n",
       "      <td>55.9208</td>\n",
       "      <td>55.6717</td>\n",
       "      <td>56.3742</td>\n",
       "      <td>56.4334</td>\n",
       "    </tr>\n",
       "    <tr>\n",
       "      <th>3</th>\n",
       "      <td>56.6019</td>\n",
       "      <td>56.3569</td>\n",
       "      <td>56.3878</td>\n",
       "      <td>56.5925</td>\n",
       "      <td>56.7597</td>\n",
       "      <td>56.5892</td>\n",
       "      <td>56.6261</td>\n",
       "      <td>56.4115</td>\n",
       "      <td>56.3888</td>\n",
       "      <td>55.9288</td>\n",
       "      <td>...</td>\n",
       "      <td>56.3554</td>\n",
       "      <td>56.3438</td>\n",
       "      <td>56.5201</td>\n",
       "      <td>56.6537</td>\n",
       "      <td>56.7608</td>\n",
       "      <td>55.9208</td>\n",
       "      <td>55.6717</td>\n",
       "      <td>56.3742</td>\n",
       "      <td>56.4334</td>\n",
       "      <td>56.6616</td>\n",
       "    </tr>\n",
       "    <tr>\n",
       "      <th>4</th>\n",
       "      <td>56.3569</td>\n",
       "      <td>56.3878</td>\n",
       "      <td>56.5925</td>\n",
       "      <td>56.7597</td>\n",
       "      <td>56.5892</td>\n",
       "      <td>56.6261</td>\n",
       "      <td>56.4115</td>\n",
       "      <td>56.3888</td>\n",
       "      <td>55.9288</td>\n",
       "      <td>55.8288</td>\n",
       "      <td>...</td>\n",
       "      <td>56.3438</td>\n",
       "      <td>56.5201</td>\n",
       "      <td>56.6537</td>\n",
       "      <td>56.7608</td>\n",
       "      <td>55.9208</td>\n",
       "      <td>55.6717</td>\n",
       "      <td>56.3742</td>\n",
       "      <td>56.4334</td>\n",
       "      <td>56.6616</td>\n",
       "      <td>57.1000</td>\n",
       "    </tr>\n",
       "  </tbody>\n",
       "</table>\n",
       "<p>5 rows × 35 columns</p>\n",
       "</div>"
      ]
     },
     "execution_count": 7,
     "metadata": {},
     "output_type": "execute_result"
    }
   ],
   "source": [
    "df = pd.DataFrame(raw_df, columns=past_columns+future_columns)\n",
    "df.head(5)"
   ]
  },
  {
   "cell_type": "code",
   "execution_count": 8,
   "metadata": {},
   "outputs": [
    {
     "data": {
      "text/html": [
       "<div>\n",
       "<style scoped>\n",
       "    .dataframe tbody tr th:only-of-type {\n",
       "        vertical-align: middle;\n",
       "    }\n",
       "\n",
       "    .dataframe tbody tr th {\n",
       "        vertical-align: top;\n",
       "    }\n",
       "\n",
       "    .dataframe thead th {\n",
       "        text-align: right;\n",
       "    }\n",
       "</style>\n",
       "<table border=\"1\" class=\"dataframe\">\n",
       "  <thead>\n",
       "    <tr style=\"text-align: right;\">\n",
       "      <th></th>\n",
       "      <th>future_0</th>\n",
       "      <th>future_1</th>\n",
       "      <th>future_2</th>\n",
       "      <th>future_3</th>\n",
       "      <th>future_4</th>\n",
       "      <th>future_5</th>\n",
       "      <th>future_6</th>\n",
       "    </tr>\n",
       "  </thead>\n",
       "  <tbody>\n",
       "    <tr>\n",
       "      <th>373</th>\n",
       "      <td>65.6196</td>\n",
       "      <td>65.6046</td>\n",
       "      <td>65.9735</td>\n",
       "      <td>66.2608</td>\n",
       "      <td>66.4127</td>\n",
       "      <td>66.7471</td>\n",
       "      <td>66.4897</td>\n",
       "    </tr>\n",
       "  </tbody>\n",
       "</table>\n",
       "</div>"
      ],
      "text/plain": [
       "<div>\n",
       "<style scoped>\n",
       "    .dataframe tbody tr th:only-of-type {\n",
       "        vertical-align: middle;\n",
       "    }\n",
       "\n",
       "    .dataframe tbody tr th {\n",
       "        vertical-align: top;\n",
       "    }\n",
       "\n",
       "    .dataframe thead th {\n",
       "        text-align: right;\n",
       "    }\n",
       "</style>\n",
       "<table border=\"1\" class=\"dataframe\">\n",
       "  <thead>\n",
       "    <tr style=\"text-align: right;\">\n",
       "      <th></th>\n",
       "      <th>future_0</th>\n",
       "      <th>future_1</th>\n",
       "      <th>future_2</th>\n",
       "      <th>future_3</th>\n",
       "      <th>future_4</th>\n",
       "      <th>future_5</th>\n",
       "      <th>future_6</th>\n",
       "    </tr>\n",
       "  </thead>\n",
       "  <tbody>\n",
       "    <tr>\n",
       "      <th>373</th>\n",
       "      <td>65.6196</td>\n",
       "      <td>65.6046</td>\n",
       "      <td>65.9735</td>\n",
       "      <td>66.2608</td>\n",
       "      <td>66.4127</td>\n",
       "      <td>66.7471</td>\n",
       "      <td>66.4897</td>\n",
       "    </tr>\n",
       "  </tbody>\n",
       "</table>\n",
       "</div>"
      ]
     },
     "execution_count": 8,
     "metadata": {},
     "output_type": "execute_result"
    }
   ],
   "source": [
    "X = df[past_columns][:-1]   # на данные, на основе которых мы будем делать предсказание, не вклюбчая последний ряд (строчка)\n",
    "y = df[future_columns][:-1] # на данные, которые мы будем предсказывать\n",
    "X_test = df[past_columns][-1:]   # тестовые данные для проверки модели\n",
    "y_test = df[future_columns][-1:] \n",
    "y_test"
   ]
  },
  {
   "cell_type": "code",
   "execution_count": 9,
   "metadata": {},
   "outputs": [
    {
     "data": {
      "text/plain": [
       "future_0    65.6196\nfuture_1    65.6046\nfuture_2    65.9735\nfuture_3    66.2608\nfuture_4    66.4127\nfuture_5    66.7471\nfuture_6    66.4897\nName: 373, dtype: float64"
      ]
     },
     "execution_count": 9,
     "metadata": {},
     "output_type": "execute_result"
    }
   ],
   "source": [
    "y_test.iloc[0]"
   ]
  },
  {
   "cell_type": "code",
   "execution_count": 10,
   "metadata": {},
   "outputs": [
    {
     "data": {
      "text/plain": [
       "[65.6196, 65.6046, 65.9735, 66.2608, 66.4127, 66.7471, 66.4897]"
      ]
     },
     "execution_count": 10,
     "metadata": {},
     "output_type": "execute_result"
    }
   ],
   "source": [
    "list(y_test.iloc[0])"
   ]
  },
  {
   "cell_type": "markdown",
   "metadata": {},
   "source": [
    "-----------------обучение модели--------------------------------------------"
   ]
  },
  {
   "cell_type": "code",
   "execution_count": 11,
   "metadata": {},
   "outputs": [
    {
     "data": {
      "text/plain": [
       "[66.255999794934752,\n 66.302815103539672,\n 66.326570906206825,\n 66.31823111344363,\n 66.274208066962586,\n 66.206925922119552,\n 66.178591856498826]"
      ]
     },
     "execution_count": 11,
     "metadata": {},
     "output_type": "execute_result"
    }
   ],
   "source": [
    "from sklearn.linear_model import LinearRegression\n",
    "LinReg  = LinearRegression()\n",
    "LinReg.fit(X,y)# метод fit для обучения модели\n",
    "LinReg.predict(X_test) # предсказанные результаты - массив массивов\n",
    "prediction = LinReg.predict(X_test)[0] # массив, если взять только первый элемент из LinReg.predict(X_test)\n",
    "list(prediction)"
   ]
  },
  {
   "cell_type": "code",
   "execution_count": 12,
   "metadata": {},
   "outputs": [
    {
     "data": {
      "text/plain": [
       "array([[ 66.25599979,  66.3028151 ,  66.32657091,  66.31823111,\n         66.27420807,  66.20692592,  66.17859186]])"
      ]
     },
     "execution_count": 12,
     "metadata": {},
     "output_type": "execute_result"
    }
   ],
   "source": [
    "import numpy as np\n",
    "np.array([prediction])"
   ]
  },
  {
   "cell_type": "code",
   "execution_count": 13,
   "metadata": {},
   "outputs": [
    {
     "data": {
      "text/plain": [
       "1.1950827395156198"
      ]
     },
     "execution_count": 13,
     "metadata": {},
     "output_type": "execute_result"
    }
   ],
   "source": [
    "np.linalg.norm(y_test - prediction) # отклонение данных"
   ]
  },
  {
   "cell_type": "code",
   "execution_count": 14,
   "metadata": {},
   "outputs": [
    {
     "data": {
      "text/plain": [
       "0.39069872464912897"
      ]
     },
     "execution_count": 14,
     "metadata": {},
     "output_type": "execute_result"
    }
   ],
   "source": [
    "#sklearn.metrics.mean_absolute_error(np.array([list(y_test.iloc[0])]), np.array([prediction]))\n",
    "#sklearn.metrics.mean_absolute_error(np.array([y_test.iloc[0]]), np.array([prediction]))\n",
    "sklearn.metrics.mean_absolute_error(y_test.iloc[0], prediction)"
   ]
  },
  {
   "cell_type": "code",
   "execution_count": 15,
   "metadata": {},
   "outputs": [
    {
     "data": {
      "text/plain": [
       "<matplotlib.legend.Legend at 0x139fdd78da0>"
      ]
     },
     "execution_count": 15,
     "metadata": {},
     "output_type": "execute_result"
    },
    {
     "data": {
      "image/png": "[encoded data removed]",
      "text/plain": [
       "<matplotlib.figure.Figure at 0x139fbcfb3c8>"
      ]
     },
     "metadata": {},
     "output_type": "display_data"
    }
   ],
   "source": [
    "import matplotlib.pyplot as plt\n",
    "plt.plot(prediction, label=\"prediction\")\n",
    "plt.plot(list(y_test.iloc[0]), label=\"real\")\n",
    "#plt.plot(y_test, label=\"real\")\n",
    "plt.legend()"
   ]
  },
  {
   "cell_type": "code",
   "execution_count": 16,
   "metadata": {},
   "outputs": [
    {
     "data": {
      "text/plain": [
       "KNeighborsRegressor(algorithm='auto', leaf_size=30, metric='minkowski',\n          metric_params=None, n_jobs=1, n_neighbors=1, p=2,\n          weights='uniform')"
      ]
     },
     "execution_count": 16,
     "metadata": {},
     "output_type": "execute_result"
    }
   ],
   "source": [
    "from sklearn.neighbors import KNeighborsRegressor\n",
    "KNN = KNeighborsRegressor(n_neighbors=1)\n",
    "KNN.fit(X,y)"
   ]
  },
  {
   "cell_type": "code",
   "execution_count": 17,
   "metadata": {},
   "outputs": [
    {
     "data": {
      "text/plain": [
       "<matplotlib.legend.Legend at 0x139fee4af60>"
      ]
     },
     "execution_count": 17,
     "metadata": {},
     "output_type": "execute_result"
    },
    {
     "data": {
      "image/png": "[encoded data removed]",
      "text/plain": [
       "<matplotlib.figure.Figure at 0x139fddbc048>"
      ]
     },
     "metadata": {},
     "output_type": "display_data"
    }
   ],
   "source": [
    "prediction = KNN.predict(X_test)[0]\n",
    "plt.plot(prediction, label=\"prediction\")\n",
    "plt.plot(list(y_test.iloc[0]), label=\"real\")\n",
    "#plt.plot(y_test, label=\"real\")\n",
    "plt.legend()"
   ]
  },
  {
   "cell_type": "code",
   "execution_count": 18,
   "metadata": {},
   "outputs": [
    {
     "data": {
      "text/plain": [
       "0.29404285714285755"
      ]
     },
     "execution_count": 18,
     "metadata": {},
     "output_type": "execute_result"
    }
   ],
   "source": [
    "sklearn.metrics.mean_absolute_error(y_test.iloc[0], prediction)"
   ]
  },
  {
   "cell_type": "code",
   "execution_count": 19,
   "metadata": {},
   "outputs": [
    {
     "data": {
      "text/plain": [
       "MLPRegressor(activation='relu', alpha=0.0001, batch_size='auto', beta_1=0.9,\n       beta_2=0.999, early_stopping=False, epsilon=1e-08,\n       hidden_layer_sizes=(100,), learning_rate='constant',\n       learning_rate_init=0.001, max_iter=2000, momentum=0.9,\n       nesterovs_momentum=True, power_t=0.5, random_state=None,\n       shuffle=True, solver='adam', tol=0.0001, validation_fraction=0.1,\n       verbose=False, warm_start=False)"
      ]
     },
     "execution_count": 19,
     "metadata": {},
     "output_type": "execute_result"
    }
   ],
   "source": [
    "from sklearn.neural_network import MLPRegressor\n",
    "MLP = MLPRegressor(max_iter = 2000)\n",
    "MLP\n",
    "MLP.fit(X,y)\n"
   ]
  },
  {
   "cell_type": "code",
   "execution_count": 20,
   "metadata": {},
   "outputs": [
    {
     "data": {
      "text/plain": [
       "<matplotlib.legend.Legend at 0x139fef1dcc0>"
      ]
     },
     "execution_count": 20,
     "metadata": {},
     "output_type": "execute_result"
    },
    {
     "data": {
      "image/png": "[encoded data removed]",
      "text/plain": [
       "<matplotlib.figure.Figure at 0x139fede94e0>"
      ]
     },
     "metadata": {},
     "output_type": "display_data"
    }
   ],
   "source": [
    "prediction = MLP.predict(X_test)[0]\n",
    "plt.plot(prediction, label=\"prediction\")\n",
    "plt.plot(list(y_test.iloc[0]), label=\"real\")\n",
    "#plt.plot(y_test, label=\"real\")\n",
    "plt.legend()\n",
    "\n",
    "\n",
    "\n",
    "\n"
   ]
  },
  {
   "cell_type": "code",
   "execution_count": 21,
   "metadata": {},
   "outputs": [
    {
     "data": {
      "text/plain": [
       "7.7260838173866251"
      ]
     },
     "execution_count": 21,
     "metadata": {},
     "output_type": "execute_result"
    }
   ],
   "source": [
    "sklearn.metrics.mean_absolute_error(y_test.iloc[0], prediction)"
   ]
  },
  {
   "cell_type": "code",
   "execution_count": null,
   "metadata": {},
   "outputs": [],
   "source": []
  },
  {
   "cell_type": "code",
   "execution_count": null,
   "metadata": {},
   "outputs": [],
   "source": []
  },
  {
   "cell_type": "code",
   "execution_count": null,
   "metadata": {},
   "outputs": [],
   "source": []
  },
  {
   "cell_type": "code",
   "execution_count": null,
   "metadata": {},
   "outputs": [],
   "source": []
  }
 ],
 "metadata": {
  "kernelspec": {
   "display_name": "Python 2",
   "language": "python",
   "name": "python2"
  },
  "language_info": {
   "codemirror_mode": {
    "name": "ipython",
    "version": 2
   },
   "file_extension": ".py",
   "mimetype": "text/x-python",
   "name": "python",
   "nbconvert_exporter": "python",
   "pygments_lexer": "ipython2",
   "version": "2.7.6"
  }
 },
 "nbformat": 4,
 "nbformat_minor": 0
}
